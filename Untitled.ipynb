{
 "cells": [
  {
   "cell_type": "code",
   "execution_count": 1,
   "id": "9610e991-cd88-4427-ac95-b5251d1acd3d",
   "metadata": {},
   "outputs": [],
   "source": [
    "from datetime import datetime, timedelta\n",
    "import random\n",
    "\n",
    "def generate_test_logs(filename, num_days=10):\n",
    "   start_date = datetime.now() - timedelta(days=num_days)\n",
    "   log_levels = ['INFO', 'WARN', 'ERROR']\n",
    "   components = ['API', 'Database', 'UserService', 'TaskManager']\n",
    "   messages = [\n",
    "       'Application started',\n",
    "       'Request processed successfully',\n",
    "       'Connection established',\n",
    "       'Task completed',\n",
    "       'No cached data found',\n",
    "       'Retry attempt failed'\n",
    "   ]\n",
    "   \n",
    "   with open(filename, 'w') as f:\n",
    "       current = start_date\n",
    "       while current < datetime.now():\n",
    "           entries = random.randint(5, 15)\n",
    "           for _ in range(entries):\n",
    "               level = random.choice(log_levels)\n",
    "               component = random.choice(components)\n",
    "               message = random.choice(messages)\n",
    "               timestamp = current.strftime('%Y-%m-%d %H:%M:%S')\n",
    "               f.write(f'{timestamp} [{level}] [{component}] {message}\\n')\n",
    "           current += timedelta(minutes=random.randint(30, 120))\n",
    "\n",
    "# Generate 5 days of test logs\n",
    "generate_test_logs('application.log')"
   ]
  },
  {
   "cell_type": "code",
   "execution_count": 2,
   "id": "da48be16-90ac-4586-b382-49bcf0e40386",
   "metadata": {},
   "outputs": [
    {
     "name": "stdout",
     "output_type": "stream",
     "text": [
      "Kept 354 log entries from the last 2 days\n"
     ]
    }
   ],
   "source": [
    "from datetime import datetime, timedelta\n",
    "import os\n",
    "\n",
    "def trim_logs(log_file, days_to_keep=2):\n",
    "    # Read existing logs\n",
    "    with open(log_file, 'r') as f:\n",
    "        logs = f.readlines()\n",
    "    \n",
    "    # Calculate cutoff date\n",
    "    cutoff_date = datetime.now() - timedelta(days=days_to_keep)\n",
    "    \n",
    "    # Filter logs\n",
    "    kept_logs = []\n",
    "    for log in logs:\n",
    "        try:\n",
    "            log_date = datetime.strptime(log[:19], '%Y-%m-%d %H:%M:%S')\n",
    "            if log_date >= cutoff_date:\n",
    "                kept_logs.append(log)\n",
    "        except ValueError:\n",
    "            continue  # Skip malformed lines\n",
    "    \n",
    "    # Write back filtered logs\n",
    "    with open(log_file, 'w') as f:\n",
    "        f.writelines(kept_logs)\n",
    "\n",
    "    print(f\"Kept {len(kept_logs)} log entries from the last {days_to_keep} days\")\n",
    "\n",
    "# Usage\n",
    "log_file = \"application.log\"\n",
    "trim_logs(log_file)"
   ]
  },
  {
   "cell_type": "code",
   "execution_count": null,
   "id": "0844d067-6161-4c48-ad08-cf21a6a8204e",
   "metadata": {},
   "outputs": [],
   "source": []
  }
 ],
 "metadata": {
  "kernelspec": {
   "display_name": "Python 3 (ipykernel)",
   "language": "python",
   "name": "python3"
  },
  "language_info": {
   "codemirror_mode": {
    "name": "ipython",
    "version": 3
   },
   "file_extension": ".py",
   "mimetype": "text/x-python",
   "name": "python",
   "nbconvert_exporter": "python",
   "pygments_lexer": "ipython3",
   "version": "3.10.12"
  }
 },
 "nbformat": 4,
 "nbformat_minor": 5
}
