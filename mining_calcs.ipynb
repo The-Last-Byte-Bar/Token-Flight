{
 "cells": [
  {
   "cell_type": "code",
   "execution_count": 28,
   "id": "291eaa42-afdf-4c71-89ab-e9b2e10d1577",
   "metadata": {},
   "outputs": [
    {
     "data": {
      "text/plain": [
       "6602.2"
      ]
     },
     "execution_count": 28,
     "metadata": {},
     "output_type": "execute_result"
    }
   ],
   "source": [
    "num_gpus = 32\n",
    "cost_per_gpu = 132\n",
    "gpu_cost = num_gpus * cost_per_gpu\n",
    "total_rigs = gpu_cost + 500*4\n",
    "total_rigs +7.79 * 30 * 6"
   ]
  },
  {
   "cell_type": "code",
   "execution_count": 8,
   "id": "e7fd24a8-4c52-49a5-9330-81b8fc076ead",
   "metadata": {},
   "outputs": [
    {
     "data": {
      "text/plain": [
       "1144.8000000000002"
      ]
     },
     "execution_count": 8,
     "metadata": {},
     "output_type": "execute_result"
    }
   ],
   "source": [
    "daily_erg = 6.36\n",
    "monthly = daily_erg * 30\n",
    "total_ergs = monthly * 6 \n",
    "total_ergs"
   ]
  },
  {
   "cell_type": "code",
   "execution_count": 22,
   "id": "88bcab5f-392f-48bc-8afa-2647e014197e",
   "metadata": {},
   "outputs": [
    {
     "data": {
      "text/plain": [
       "50000"
      ]
     },
     "execution_count": 22,
     "metadata": {},
     "output_type": "execute_result"
    }
   ],
   "source": [
    "what_if_price = 100\n",
    "total_USD = what_if_price * 500 #total_ergs\n",
    "total_USD"
   ]
  },
  {
   "cell_type": "code",
   "execution_count": 23,
   "id": "cd54d71a-52cb-4f0f-8df7-4afef17fa6aa",
   "metadata": {},
   "outputs": [
    {
     "data": {
      "text/plain": [
       "43776"
      ]
     },
     "execution_count": 23,
     "metadata": {},
     "output_type": "execute_result"
    }
   ],
   "source": [
    "profit = (total_USD - total_rigs )\n",
    "profit"
   ]
  },
  {
   "cell_type": "code",
   "execution_count": 29,
   "id": "efa067f6-1042-4c37-b550-63333f204ca1",
   "metadata": {},
   "outputs": [
    {
     "data": {
      "text/plain": [
       "701.0999999999999"
      ]
     },
     "execution_count": 29,
     "metadata": {},
     "output_type": "execute_result"
    }
   ],
   "source": [
    "7.79 * 30 * 6 /2 "
   ]
  },
  {
   "cell_type": "code",
   "execution_count": 27,
   "id": "e8ee614d-4709-4cec-8bbc-379ad7a0d148",
   "metadata": {},
   "outputs": [
    {
     "data": {
      "text/plain": [
       "68416.86602870814"
      ]
     },
     "execution_count": 27,
     "metadata": {},
     "output_type": "execute_result"
    }
   ],
   "source": [
    "7626.2 / 1.6720 * 15"
   ]
  },
  {
   "cell_type": "code",
   "execution_count": null,
   "id": "221d73a1-a4a0-4269-806e-04f83e57a421",
   "metadata": {},
   "outputs": [],
   "source": []
  }
 ],
 "metadata": {
  "kernelspec": {
   "display_name": "Python 3 (ipykernel)",
   "language": "python",
   "name": "python3"
  },
  "language_info": {
   "codemirror_mode": {
    "name": "ipython",
    "version": 3
   },
   "file_extension": ".py",
   "mimetype": "text/x-python",
   "name": "python",
   "nbconvert_exporter": "python",
   "pygments_lexer": "ipython3",
   "version": "3.12.4"
  }
 },
 "nbformat": 4,
 "nbformat_minor": 5
}
