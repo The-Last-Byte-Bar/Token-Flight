import json
import requests

def fetch_miners_data(block_heights):
    """
    Fetch miners data from the API.
    
    Args:
        block_heights (list): List of block heights to query
    
    Returns:
        dict: JSON response from the API
    """
    base_url = "http://0.0.0.0:8000/sigscore/miners/average-participation"
    
    # Convert block heights list to comma-separated string
    blocks_param = ",".join(map(str, block_heights))
    
    # Make the API request
    response = requests.get(f"{base_url}?blocks={blocks_param}")
    response.raise_for_status()  # Raise exception for bad status codes
    
    return response.json()

def generate_distribution(miners_data, total_amount, token_name):
    """
    Generate a distribution JSON based on participation percentages.
    
    Args:
        miners_data (dict): JSON data containing miner information
        total_amount (float): Total amount to distribute
        token_name (str): Name of the token being distributed
    
    Returns:
        dict: Distribution JSON with calculated amounts
    """
    # Create recipients list with calculated amounts
    recipients = []
    
    for miner in miners_data['miners']:
        # Calculate amount based on participation percentage
        percentage = miner['avg_participation_percentage'] / 100.0
        amount = round(total_amount * percentage, 8)  # Round to 8 decimal places
        
        # Only include miners with non-zero amounts
        if amount > 0:
            recipients.append({
                "address": miner['miner_address'],
                "amount": amount
            })
    
    # Create the final distribution structure
    distribution = {
        "distributions": [
            {
                "token_name": token_name,
                "recipients": recipients
            }
        ]
    }
    
    return distribution

def save_distribution_json(distribution, output_file):
    """
    Save distribution data to a JSON file.
    
    Args:
        distribution (dict): Distribution data to save
        output_file (str): Path to the output JSON file
    """
    with open(output_file, 'w') as f:
        json.dump(distribution, f, indent=2)




def main():
    # Example block heights from your query
    block_heights = [1416847, 1417253, 1417457, 1417531, 1417830, 1418021, 1418218, 1418620, 1418861, 1419133]
    
    try:
        # Fetch data from API
        miners_data = fetch_miners_data(block_heights)
        
        # Generate distribution with example values
        total_amount = 37  # Example amount
        token_name = "ERGO"  # Example token name
        
        result = generate_distribution(miners_data, total_amount, token_name)
        
        # Pretty print the result to console
        print(json.dumps(result, indent=2))
        
        # Save to JSON file
        output_file = "distribution_output.json"
        save_distribution_json(result, output_file)
        print(f"\nDistribution data saved to {output_file}")
        
    except requests.RequestException as e:
        print(f"Error fetching data from API: {e}")
    except Exception as e:
        print(f"Error processing data: {e}")

if __name__ == "__main__":
    main()



