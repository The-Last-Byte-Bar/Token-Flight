from datetime import datetime, timedelta
import random

def generate_test_logs(filename, num_days=10):
   start_date = datetime.now() - timedelta(days=num_days)
   log_levels = ['INFO', 'WARN', 'ERROR']
   components = ['API', 'Database', 'UserService', 'TaskManager']
   messages = [
       'Application started',
       'Request processed successfully',
       'Connection established',
       'Task completed',
       'No cached data found',
       'Retry attempt failed'
   ]
   
   with open(filename, 'w') as f:
       current = start_date
       while current < datetime.now():
           entries = random.randint(5, 15)
           for _ in range(entries):
               level = random.choice(log_levels)
               component = random.choice(components)
               message = random.choice(messages)
               timestamp = current.strftime('%Y-%m-%d %H:%M:%S')
               f.write(f'{timestamp} [{level}] [{component}] {message}\n')
           current += timedelta(minutes=random.randint(30, 120))

# Generate 5 days of test logs
generate_test_logs('application.log')


from datetime import datetime, timedelta
import os

def trim_logs(log_file, days_to_keep=2):
    # Read existing logs
    with open(log_file, 'r') as f:
        logs = f.readlines()
    
    # Calculate cutoff date
    cutoff_date = datetime.now() - timedelta(days=days_to_keep)
    
    # Filter logs
    kept_logs = []
    for log in logs:
        try:
            log_date = datetime.strptime(log[:19], '%Y-%m-%d %H:%M:%S')
            if log_date >= cutoff_date:
                kept_logs.append(log)
        except ValueError:
            continue  # Skip malformed lines
    
    # Write back filtered logs
    with open(log_file, 'w') as f:
        f.writelines(kept_logs)

    print(f"Kept {len(kept_logs)} log entries from the last {days_to_keep} days")

# Usage
log_file = "application.log"
trim_logs(log_file)



